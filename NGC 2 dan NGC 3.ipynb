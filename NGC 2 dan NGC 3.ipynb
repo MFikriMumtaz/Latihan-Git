{
  "nbformat": 4,
  "nbformat_minor": 0,
  "metadata": {
    "colab": {
      "provenance": [],
      "authorship_tag": "ABX9TyMd6RHXVw8nH5kgJsoK8rnW",
      "include_colab_link": true
    },
    "kernelspec": {
      "name": "python3",
      "display_name": "Python 3"
    },
    "language_info": {
      "name": "python"
    }
  },
  "cells": [
    {
      "cell_type": "markdown",
      "metadata": {
        "id": "view-in-github",
        "colab_type": "text"
      },
      "source": [
        "<a href=\"https://colab.research.google.com/github/MFikriMumtaz/Latihan-Git/blob/main/NGC%202%20dan%20NGC%203.ipynb\" target=\"_parent\"><img src=\"https://colab.research.google.com/assets/colab-badge.svg\" alt=\"Open In Colab\"/></a>"
      ]
    },
    {
      "cell_type": "code",
      "execution_count": null,
      "metadata": {
        "colab": {
          "base_uri": "https://localhost:8080/"
        },
        "id": "ckhM_tDPsrC8",
        "outputId": "ee55a1a8-ff6d-4cae-e047-8cb4a0f99603"
      },
      "outputs": [
        {
          "output_type": "stream",
          "name": "stdout",
          "text": [
            "402\n",
            "984\n",
            "360\n",
            "408\n",
            "980\n",
            "544\n",
            "390\n",
            "984\n",
            "592\n",
            "236\n",
            "942\n",
            "386\n",
            "462\n",
            "418\n",
            "344\n",
            "236\n",
            "566\n",
            "978\n",
            "328\n",
            "162\n",
            "758\n",
            "Done\n"
          ]
        }
      ],
      "source": [
        "numbers = [951, 402, 984, 651, 360, 69, 408,\n",
        "319, 601, 485, 980, 507, 725, 547, 544, 615,\n",
        "83, 165, 141, 501, 263, 617, 865, 575, 219,\n",
        "390, 984, 592, 236, 105, 942, 941, 386, 462,\n",
        "47, 418, 907, 344, 236, 375, 823, 566, 597,\n",
        "978, 328, 615, 953, 345, 399, 162, 758, 219,\n",
        "918, 237, 412, 566, 826, 248, 866, 950, 626,\n",
        "949]\n",
        "\n",
        "for x in numbers:\n",
        "  if x % 2 == 0:\n",
        "    if x == 918:\n",
        "      break  \n",
        "    print (x)\n",
        "print (\"Done\")"
      ]
    },
    {
      "cell_type": "markdown",
      "source": [
        "# New Section"
      ],
      "metadata": {
        "id": "zUhvF5oc8KBy"
      }
    },
    {
      "cell_type": "code",
      "source": [
        "def KelvintoCelsius(Kelvin):\n",
        "    '''rumus Kelvin ke Celsius'''\n",
        "    Celsius = Kelvin + -273.15\n",
        "    '''mengembalikan value Celsius dan Kelvin'''\n",
        "    return Celsius\n",
        "    '''menampilkan hasil konversi Kelvin ke Celsius'''\n",
        "print (\"Celsius\",KelvintoCelsius(12))\n",
        "\n",
        "def CelciustoFahrenheit(Celcius):\n",
        "    '''rumus Celsius ke Fahrenheit'''\n",
        "    Fahrenheit = (Celcius*9/5)+32\n",
        "    '''mengembalikan value Fahrenheit'''\n",
        "    return Fahrenheit\n",
        "    '''menampilkan hasil konversi Celcius ke Fahrenheit'''\n",
        "print(\"Celsius ke Fahrenheit\",CelciustoFahrenheit(40))\n",
        "\n",
        "def FahrenheittoKelvin(Fahrenheit):\n",
        "    '''rumus Fahrenheit ke Kelvin'''\n",
        "    Kelvin = (Fahrenheit-32)*5/9+273.15\n",
        "    '''mengembalikan value Kelvin'''\n",
        "    return Kelvin\n",
        "    '''menampilkan hasil konversi Fahrenheit ke Kelvin'''\n",
        "print(\"Fahrenheit ke Kelvin\",FahrenheittoKelvin(0))"
      ],
      "metadata": {
        "colab": {
          "base_uri": "https://localhost:8080/"
        },
        "id": "7LkWkKf9F-f4",
        "outputId": "08fa94b4-b952-443a-d299-37efbf573a8d"
      },
      "execution_count": null,
      "outputs": [
        {
          "output_type": "stream",
          "name": "stdout",
          "text": [
            "Celsius -261.15\n",
            "Celsius ke Fahrenheit 104.0\n",
            "Fahrenheit ke Kelvin 255.3722222222222\n"
          ]
        }
      ]
    },
    {
      "cell_type": "code",
      "source": [],
      "metadata": {
        "id": "Tc1NObKzOWqy"
      },
      "execution_count": null,
      "outputs": []
    }
  ]
}